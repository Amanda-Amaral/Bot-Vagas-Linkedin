{
 "cells": [
  {
   "cell_type": "code",
   "execution_count": 2,
   "metadata": {},
   "outputs": [
    {
     "name": "stderr",
     "output_type": "stream",
     "text": [
      "\n",
      "\n",
      "====== WebDriver manager ======\n",
      "Current google-chrome version is 96.0.4664\n",
      "Get LATEST driver version for 96.0.4664\n",
      "Driver [C:\\Users\\doama\\.wdm\\drivers\\chromedriver\\win32\\96.0.4664.45\\chromedriver.exe] found in cache\n"
     ]
    }
   ],
   "source": [
    "from selenium import webdriver\n",
    "from webdriver_manager.chrome import ChromeDriverManager\n",
    "from selenium.webdriver.common.keys import Keys\n",
    "driver = webdriver.Chrome(ChromeDriverManager().install())\n",
    "import time"
   ]
  },
  {
   "cell_type": "code",
   "execution_count": 3,
   "metadata": {},
   "outputs": [],
   "source": [
    "driver.get('https://br.linkedin.com/jobs/ci%C3%AAncia-de-dados-vagas?position=1&pageNum=0')"
   ]
  },
  {
   "cell_type": "code",
   "execution_count": 4,
   "metadata": {},
   "outputs": [],
   "source": [
    "Exibir_mais = driver.find_element_by_css_selector('body > div.base-serp-page > div > section > div.details-pane__content.details-pane__content--show > div > section.core-section-container.description > div > div > section > button.show-more-less-html__button.show-more-less-html__button--more')                                                  "
   ]
  },
  {
   "cell_type": "code",
   "execution_count": 5,
   "metadata": {},
   "outputs": [],
   "source": [
    "Exibir_mais.send_keys(Keys.ENTER)"
   ]
  },
  {
   "cell_type": "code",
   "execution_count": 6,
   "metadata": {},
   "outputs": [],
   "source": [
    "descricao = driver.find_element_by_css_selector('body > div.base-serp-page > div > section > div.details-pane__content.details-pane__content--show > div > section.core-section-container.description > div > div > section > div')"
   ]
  },
  {
   "cell_type": "code",
   "execution_count": 7,
   "metadata": {},
   "outputs": [
    {
     "name": "stdout",
     "output_type": "stream",
     "text": [
      "Como é o ambiente de trabalho?\n",
      "\n",
      "Atuará na Incubadora Analytics, a nossa missão é de capacitar as áreas de negócios para que se tornem autônomas na condução das iniciativas de ciência de dados. Para isso, entregamos valor e capacitamos pessoas ao mesmo tempo.\n",
      "\n",
      "\n",
      "\n",
      "\n",
      "\n",
      "Requisitos\n",
      "\n",
      "Diferenciais\n"
     ]
    }
   ],
   "source": [
    "print(descricao.text)"
   ]
  },
  {
   "cell_type": "code",
   "execution_count": 8,
   "metadata": {},
   "outputs": [],
   "source": [
    "resultados = driver.find_elements_by_class_name('base-card__full-link')"
   ]
  },
  {
   "cell_type": "code",
   "execution_count": 9,
   "metadata": {},
   "outputs": [
    {
     "data": {
      "text/plain": [
       "23"
      ]
     },
     "execution_count": 9,
     "metadata": {},
     "output_type": "execute_result"
    }
   ],
   "source": [
    "len(resultados)"
   ]
  },
  {
   "cell_type": "code",
   "execution_count": 10,
   "metadata": {},
   "outputs": [],
   "source": [
    "lista_descri=[]"
   ]
  },
  {
   "cell_type": "code",
   "execution_count": 11,
   "metadata": {},
   "outputs": [],
   "source": [
    "for vaga in resultados:\n",
    "    try:\n",
    "        vaga.click()\n",
    "        time.sleep(2)\n",
    "        #Exibir_mais.clear()\n",
    "        Exibir_mais = driver.find_element_by_css_selector('body > div.base-serp-page > div > section > div.details-pane__content.details-pane__content--show > div > section.core-section-container.description > div > div > section > button.show-more-less-html__button.show-more-less-html__button--more')    \n",
    "        Exibir_mais.send_keys(Keys.ENTER)\n",
    "        #descricao.clear()\n",
    "        descricao = driver.find_element_by_css_selector('body > div.base-serp-page > div > section > div.details-pane__content.details-pane__content--show > div > section.core-section-container.description > div > div > section > div')\n",
    "        time.sleep(2)\n",
    "        lista_descri.append(descricao.text)\n",
    "    except:\n",
    "        print('Nao foi possivel abrir vaga, seguindo para proxima')"
   ]
  },
  {
   "cell_type": "code",
   "execution_count": 24,
   "metadata": {},
   "outputs": [],
   "source": [
    "def listToString(a): \n",
    "    str1 = \"\\n\\n/// Vaga\\n\\n\" \n",
    "    return ('/// Vaga\\n' + str1.join(a))"
   ]
  },
  {
   "cell_type": "code",
   "execution_count": 25,
   "metadata": {},
   "outputs": [],
   "source": [
    "import csv\n",
    "with open('vagas dados.csv', \"w\", encoding=\"utf-8\") as f:\n",
    "    f.write(listToString(lista_descri))"
   ]
  },
  {
   "cell_type": "code",
   "execution_count": null,
   "metadata": {},
   "outputs": [],
   "source": []
  },
  {
   "cell_type": "code",
   "execution_count": null,
   "metadata": {},
   "outputs": [],
   "source": []
  }
 ],
 "metadata": {
  "kernelspec": {
   "display_name": "Python 3",
   "language": "python",
   "name": "python3"
  },
  "language_info": {
   "codemirror_mode": {
    "name": "ipython",
    "version": 3
   },
   "file_extension": ".py",
   "mimetype": "text/x-python",
   "name": "python",
   "nbconvert_exporter": "python",
   "pygments_lexer": "ipython3",
   "version": "3.8.5"
  }
 },
 "nbformat": 4,
 "nbformat_minor": 4
}
